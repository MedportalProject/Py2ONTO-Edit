{
 "cells": [
  {
   "cell_type": "markdown",
   "id": "eb82cab7-ca29-41aa-b1eb-310a2c45ba64",
   "metadata": {},
   "source": [
    "## Install dependence package"
   ]
  },
  {
   "cell_type": "code",
   "execution_count": 1,
   "id": "cc5d5a2e-a7f0-4a23-9935-db0ee525a3bf",
   "metadata": {},
   "outputs": [],
   "source": [
    "#!pip install -r ../requirements.txt -i https://pypi.tuna.tsinghua.edu.cn/simple"
   ]
  },
  {
   "cell_type": "markdown",
   "id": "097da267-3669-4dc0-8205-f57dcd877479",
   "metadata": {},
   "source": [
    "## Task 1: Only segment ontology\n",
    "#### the part ontology save in folder-result"
   ]
  },
  {
   "cell_type": "code",
   "execution_count": 1,
   "id": "681753e7-fb76-4cbb-980f-21c425d04486",
   "metadata": {
    "scrolled": true
   },
   "outputs": [
    {
     "name": "stdout",
     "output_type": "stream",
     "text": [
      "C:\\Users\\Zhe\\Desktop\\Py2ONTO-Edit\\Py2ONTO-Edit-main-V2\\Usage\n",
      "Get data under a single node\n",
      "http://purl.obolibrary.org/obo/doid/doid-non-classified.owl#\n",
      "label mathched\n",
      "'NoneType' object has no attribute 'destroy_entity'\n",
      "Cutting ontology successfully\n"
     ]
    },
    {
     "name": "stderr",
     "output_type": "stream",
     "text": [
      "* Owlready2 * Warning: optimized Cython parser module 'owlready2_optimized' is not available, defaulting to slower Python implementation\n",
      "\n",
      "  0%|          | 0/22 [00:00<?, ?it/s]\n",
      "100%|██████████| 22/22 [00:00<00:00, 22517.01it/s]\n"
     ]
    }
   ],
   "source": [
    "!python editonto.py -o ./HumanDO.owl -m all -s \"orofacial cleft\""
   ]
  },
  {
   "cell_type": "markdown",
   "id": "97fe1100-704f-430d-87c5-85c3ff377878",
   "metadata": {},
   "source": [
    "## Task 2: Only translate terms\n",
    "> -l: tranlate English term to other language  \n",
    "> en2zh: English to Chinese  \n",
    "> en2fr: English to French  \n",
    "> en2de: English to German  "
   ]
  },
  {
   "cell_type": "code",
   "execution_count": 3,
   "id": "4a255172-67c9-4d6e-b3fd-685f27bf201c",
   "metadata": {
    "scrolled": true
   },
   "outputs": [
    {
     "name": "stdout",
     "output_type": "stream",
     "text": [
      "C:\\Users\\Zhe\\Desktop\\Py2ONTO-Edit\\Py2ONTO-Edit-main-V2\\Usage\n",
      "No cut method\n",
      "Using Deepl translation method, Please fill in the key information in the code.\n",
      "add_owl_path\n",
      "Translation add to ontology successful\n"
     ]
    },
    {
     "name": "stderr",
     "output_type": "stream",
     "text": [
      "* Owlready2 * Warning: optimized Cython parser module 'owlready2_optimized' is not available, defaulting to slower Python implementation\n",
      "\n",
      "  0%|          | 0/22 [00:00<?, ?it/s]\n",
      "100%|██████████| 22/22 [00:00<00:00, 43669.99it/s]\n",
      "\n",
      "0it [00:00, ?it/s]\n",
      "22it [00:00, 14085.59it/s]\n",
      "\n",
      "  0%|          | 0/22 [00:00<?, ?it/s]\n",
      "  5%|▍         | 1/22 [00:03<01:12,  3.47s/it]\n",
      "  9%|▉         | 2/22 [00:08<01:27,  4.35s/it]\n",
      " 14%|█▎        | 3/22 [00:11<01:14,  3.89s/it]\n",
      " 18%|█▊        | 4/22 [00:15<01:05,  3.66s/it]\n",
      " 23%|██▎       | 5/22 [00:18<01:02,  3.68s/it]\n",
      " 27%|██▋       | 6/22 [00:22<00:58,  3.63s/it]\n",
      " 32%|███▏      | 7/22 [00:25<00:54,  3.60s/it]\n",
      " 36%|███▋      | 8/22 [00:29<00:51,  3.68s/it]\n",
      " 41%|████      | 9/22 [00:33<00:46,  3.56s/it]\n",
      " 45%|████▌     | 10/22 [00:36<00:42,  3.54s/it]\n",
      " 50%|█████     | 11/22 [00:40<00:39,  3.61s/it]\n",
      " 55%|█████▍    | 12/22 [00:48<00:48,  4.90s/it]\n",
      " 59%|█████▉    | 13/22 [00:51<00:40,  4.48s/it]\n",
      " 64%|██████▎   | 14/22 [00:55<00:33,  4.18s/it]\n",
      " 68%|██████▊   | 15/22 [01:00<00:30,  4.41s/it]\n",
      " 73%|███████▎  | 16/22 [01:03<00:24,  4.10s/it]\n",
      " 77%|███████▋  | 17/22 [01:06<00:19,  3.90s/it]\n",
      " 82%|████████▏ | 18/22 [01:10<00:15,  3.81s/it]\n",
      " 86%|████████▋ | 19/22 [01:13<00:11,  3.67s/it]\n",
      " 91%|█████████ | 20/22 [01:17<00:07,  3.57s/it]\n",
      " 95%|█████████▌| 21/22 [01:22<00:04,  4.13s/it]\n",
      "100%|██████████| 22/22 [01:25<00:00,  3.88s/it]\n",
      "100%|██████████| 22/22 [01:25<00:00,  3.90s/it]\n"
     ]
    }
   ],
   "source": [
    "!python editonto.py -o ./result/cut_onto.owl -m none -l \"en2de\" -t d"
   ]
  },
  {
   "cell_type": "code",
   "execution_count": 2,
   "id": "5ecc0e1a-de4a-4635-ac8f-ef9667ef2613",
   "metadata": {
    "scrolled": true
   },
   "outputs": [
    {
     "name": "stdout",
     "output_type": "stream",
     "text": [
      "C:\\Users\\Zhe\\Desktop\\Py2ONTO-Edit\\Py2ONTO-Edit-main-V2\\Usage\n",
      "No cut method\n",
      "Using Deepl translation method, Please fill in the key information in the code.\n",
      "add_owl_path\n",
      "Translation add to ontology successful\n"
     ]
    },
    {
     "name": "stderr",
     "output_type": "stream",
     "text": [
      "* Owlready2 * Warning: optimized Cython parser module 'owlready2_optimized' is not available, defaulting to slower Python implementation\n",
      "\n",
      "  0%|          | 0/22 [00:00<?, ?it/s]\n",
      "100%|██████████| 22/22 [00:00<00:00, 22555.53it/s]\n",
      "\n",
      "0it [00:00, ?it/s]\n",
      "22it [00:00, 11060.13it/s]\n",
      "\n",
      "  0%|          | 0/22 [00:00<?, ?it/s]\n",
      "  5%|▍         | 1/22 [00:03<01:15,  3.62s/it]\n",
      "  9%|▉         | 2/22 [00:07<01:13,  3.65s/it]\n",
      " 14%|█▎        | 3/22 [00:10<01:08,  3.63s/it]\n",
      " 18%|█▊        | 4/22 [00:14<01:03,  3.55s/it]\n",
      " 23%|██▎       | 5/22 [00:18<01:02,  3.68s/it]\n",
      " 27%|██▋       | 6/22 [00:21<00:58,  3.68s/it]\n",
      " 32%|███▏      | 7/22 [00:25<00:56,  3.74s/it]\n",
      " 36%|███▋      | 8/22 [00:29<00:50,  3.59s/it]\n",
      " 41%|████      | 9/22 [00:32<00:45,  3.49s/it]\n",
      " 45%|████▌     | 10/22 [00:35<00:40,  3.42s/it]\n",
      " 50%|█████     | 11/22 [00:38<00:37,  3.38s/it]\n",
      " 55%|█████▍    | 12/22 [00:42<00:33,  3.36s/it]\n",
      " 59%|█████▉    | 13/22 [00:45<00:30,  3.41s/it]\n",
      " 64%|██████▎   | 14/22 [00:49<00:27,  3.43s/it]\n",
      " 68%|██████▊   | 15/22 [00:52<00:23,  3.40s/it]\n",
      " 73%|███████▎  | 16/22 [00:55<00:20,  3.38s/it]\n",
      " 77%|███████▋  | 17/22 [00:59<00:16,  3.35s/it]\n",
      " 82%|████████▏ | 18/22 [01:02<00:13,  3.33s/it]\n",
      " 86%|████████▋ | 19/22 [01:05<00:09,  3.30s/it]\n",
      " 91%|█████████ | 20/22 [01:08<00:06,  3.29s/it]\n",
      " 95%|█████████▌| 21/22 [01:12<00:03,  3.31s/it]\n",
      "100%|██████████| 22/22 [01:15<00:00,  3.30s/it]\n",
      "100%|██████████| 22/22 [01:15<00:00,  3.43s/it]\n"
     ]
    }
   ],
   "source": [
    "!python editonto.py -o ./result/cut_onto.owl -m none -l \"en2zh\" -t d"
   ]
  },
  {
   "attachments": {},
   "cell_type": "markdown",
   "id": "bb62b763-2aae-418a-8006-5d25664a5cc6",
   "metadata": {},
   "source": [
    "## Task 3: Segment and translate ontology"
   ]
  },
  {
   "cell_type": "code",
   "execution_count": 4,
   "id": "82f65ea2-9e1d-4ba5-889e-c31c58888065",
   "metadata": {
    "scrolled": true
   },
   "outputs": [
    {
     "name": "stdout",
     "output_type": "stream",
     "text": [
      "C:\\Users\\Zhe\\Desktop\\Py2ONTO-Edit\\Py2ONTO-Edit-main-V2\\Usage\n",
      "Get data under a single node\n",
      "http://purl.obolibrary.org/obo/doid/doid-non-classified.owl#\n",
      "label mathched\n",
      "'NoneType' object has no attribute 'destroy_entity'\n",
      "Cutting ontology successfully\n",
      "Using Deepl translation method, Please fill in the key information in the code.\n",
      "add_owl_path\n",
      "Translation add to ontology successful\n"
     ]
    },
    {
     "name": "stderr",
     "output_type": "stream",
     "text": [
      "* Owlready2 * Warning: optimized Cython parser module 'owlready2_optimized' is not available, defaulting to slower Python implementation\n",
      "\n",
      "  0%|          | 0/22 [00:00<?, ?it/s]\n",
      "100%|██████████| 22/22 [00:00<00:00, 22533.50it/s]\n",
      "\n",
      "0it [00:00, ?it/s]\n",
      "22it [00:00, 22484.09it/s]\n",
      "\n",
      "  0%|          | 0/22 [00:00<?, ?it/s]\n",
      "  5%|▍         | 1/22 [00:03<01:17,  3.71s/it]\n",
      "  9%|▉         | 2/22 [00:07<01:10,  3.53s/it]\n",
      " 14%|█▎        | 3/22 [00:11<01:10,  3.70s/it]\n",
      " 18%|█▊        | 4/22 [00:14<01:05,  3.65s/it]\n",
      " 23%|██▎       | 5/22 [00:17<01:00,  3.54s/it]\n",
      " 27%|██▋       | 6/22 [00:21<00:59,  3.71s/it]\n",
      " 32%|███▏      | 7/22 [00:25<00:54,  3.66s/it]\n",
      " 36%|███▋      | 8/22 [00:29<00:52,  3.78s/it]\n",
      " 41%|████      | 9/22 [00:33<00:48,  3.71s/it]\n",
      " 45%|████▌     | 10/22 [00:38<00:50,  4.22s/it]\n",
      " 50%|█████     | 11/22 [00:42<00:44,  4.02s/it]\n",
      " 55%|█████▍    | 12/22 [00:47<00:43,  4.32s/it]\n",
      " 59%|█████▉    | 13/22 [00:50<00:36,  4.08s/it]\n",
      " 64%|██████▎   | 14/22 [00:54<00:31,  3.94s/it]\n",
      " 68%|██████▊   | 15/22 [00:57<00:26,  3.81s/it]\n",
      " 73%|███████▎  | 16/22 [01:01<00:22,  3.68s/it]\n",
      " 77%|███████▋  | 17/22 [01:04<00:18,  3.68s/it]\n",
      " 82%|████████▏ | 18/22 [01:08<00:14,  3.73s/it]\n",
      " 86%|████████▋ | 19/22 [01:13<00:12,  4.07s/it]\n",
      " 91%|█████████ | 20/22 [01:17<00:08,  4.01s/it]\n",
      " 95%|█████████▌| 21/22 [01:21<00:04,  4.03s/it]\n",
      "100%|██████████| 22/22 [01:24<00:00,  3.87s/it]\n",
      "100%|██████████| 22/22 [01:24<00:00,  3.86s/it]\n"
     ]
    }
   ],
   "source": [
    "!python editonto.py -o ./HumanDO.owl -m all -s \"orofacial cleft\" -l \"en2zh\" -t d"
   ]
  },
  {
   "cell_type": "code",
   "execution_count": 5,
   "id": "dbf39555-784f-4bf1-960e-d59b4652e793",
   "metadata": {
    "scrolled": true
   },
   "outputs": [
    {
     "name": "stdout",
     "output_type": "stream",
     "text": [
      "C:\\Users\\Zhe\\Desktop\\Py2ONTO-Edit\\Py2ONTO-Edit-main-V2\\Usage\n",
      "Get data under a single node\n",
      "http://purl.obolibrary.org/obo/doid/doid-non-classified.owl#\n",
      "label mathched\n",
      "'NoneType' object has no attribute 'destroy_entity'\n",
      "Cutting ontology successfully\n",
      "Using Deepl translation method, Please fill in the key information in the code.\n",
      "add_owl_path\n",
      "Translation add to ontology successful\n"
     ]
    },
    {
     "name": "stderr",
     "output_type": "stream",
     "text": [
      "* Owlready2 * Warning: optimized Cython parser module 'owlready2_optimized' is not available, defaulting to slower Python implementation\n",
      "\n",
      "  0%|          | 0/22 [00:00<?, ?it/s]\n",
      "100%|██████████| 22/22 [00:00<00:00, 22396.77it/s]\n",
      "\n",
      "0it [00:00, ?it/s]\n",
      "22it [00:00, 8682.23it/s]\n",
      "\n",
      "  0%|          | 0/22 [00:00<?, ?it/s]\n",
      "  5%|▍         | 1/22 [00:03<01:15,  3.59s/it]\n",
      "  9%|▉         | 2/22 [00:07<01:11,  3.58s/it]\n",
      " 14%|█▎        | 3/22 [00:10<01:08,  3.60s/it]\n",
      " 18%|█▊        | 4/22 [00:14<01:04,  3.58s/it]\n",
      " 23%|██▎       | 5/22 [00:17<00:59,  3.47s/it]\n",
      " 27%|██▋       | 6/22 [00:20<00:54,  3.44s/it]\n",
      " 32%|███▏      | 7/22 [00:24<00:50,  3.40s/it]\n",
      " 36%|███▋      | 8/22 [00:27<00:47,  3.37s/it]\n",
      " 41%|████      | 9/22 [00:30<00:43,  3.36s/it]\n",
      " 45%|████▌     | 10/22 [00:34<00:40,  3.36s/it]\n",
      " 50%|█████     | 11/22 [00:37<00:36,  3.36s/it]\n",
      " 55%|█████▍    | 12/22 [00:41<00:34,  3.43s/it]\n",
      " 59%|█████▉    | 13/22 [00:44<00:31,  3.51s/it]\n",
      " 64%|██████▎   | 14/22 [00:48<00:27,  3.49s/it]\n",
      " 68%|██████▊   | 15/22 [00:52<00:25,  3.61s/it]\n",
      " 73%|███████▎  | 16/22 [00:55<00:21,  3.58s/it]\n",
      " 77%|███████▋  | 17/22 [00:59<00:17,  3.56s/it]\n",
      " 82%|████████▏ | 18/22 [01:11<00:24,  6.20s/it]\n",
      " 86%|████████▋ | 19/22 [01:15<00:16,  5.44s/it]\n",
      " 91%|█████████ | 20/22 [01:18<00:09,  4.89s/it]\n",
      " 95%|█████████▌| 21/22 [01:22<00:04,  4.50s/it]\n",
      "100%|██████████| 22/22 [01:31<00:00,  5.86s/it]\n",
      "100%|██████████| 22/22 [01:31<00:00,  4.16s/it]\n"
     ]
    }
   ],
   "source": [
    "!python editonto.py -o ./HumanDO.owl -m all -s \"orofacial cleft\" -l \"en2fr\" -t d"
   ]
  },
  {
   "cell_type": "code",
   "execution_count": null,
   "id": "7ec90f09-99ff-43a1-bd5e-591fb517466e",
   "metadata": {},
   "outputs": [],
   "source": []
  }
 ],
 "metadata": {
  "kernelspec": {
   "display_name": "Python 3 (ipykernel)",
   "language": "python",
   "name": "python3"
  },
  "language_info": {
   "codemirror_mode": {
    "name": "ipython",
    "version": 3
   },
   "file_extension": ".py",
   "mimetype": "text/x-python",
   "name": "python",
   "nbconvert_exporter": "python",
   "pygments_lexer": "ipython3",
   "version": "3.10.14"
  }
 },
 "nbformat": 4,
 "nbformat_minor": 5
}
